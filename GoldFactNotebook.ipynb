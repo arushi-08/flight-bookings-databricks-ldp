{
 "cells": [
  {
   "cell_type": "code",
   "execution_count": 0,
   "metadata": {
    "application/vnd.databricks.v1+cell": {
     "cellMetadata": {
      "byteLimit": 2048000,
      "rowLimit": 10000
     },
     "inputWidgets": {},
     "nuid": "e3d66bc6-d4bd-4e85-ba3f-d0fc2aeb35ad",
     "showTitle": false,
     "tableResultSettingsMap": {},
     "title": ""
    }
   },
   "outputs": [],
   "source": [
    "from pyspark.sql.functions import *"
   ]
  },
  {
   "cell_type": "code",
   "execution_count": 0,
   "metadata": {
    "application/vnd.databricks.v1+cell": {
     "cellMetadata": {
      "byteLimit": 2048000,
      "rowLimit": 10000
     },
     "inputWidgets": {},
     "nuid": "71f8f37d-43f3-4347-abd3-ea4996735807",
     "showTitle": false,
     "tableResultSettingsMap": {},
     "title": ""
    }
   },
   "outputs": [],
   "source": [
    "source_schema = 'silver'\n",
    "source_object = 'silver_bookings'\n",
    "target_schema = 'gold'\n",
    "target_object = 'fact_bookings'\n",
    "cdc_column = 'modified_date'\n",
    "backdated_refresh = \"\"\n",
    "source_fact_table = f\"workspace.{source_schema}.{source_object}\"\n",
    "target_fact_table = f\"workspace.{target_schema}.{target_object}\"\n",
    "\n",
    "fact_key_cols = ['dim_flights_key', 'dim_passengers_key', 'dim_airports_key']\n",
    "\n"
   ]
  },
  {
   "cell_type": "code",
   "execution_count": 0,
   "metadata": {
    "application/vnd.databricks.v1+cell": {
     "cellMetadata": {
      "byteLimit": 2048000,
      "rowLimit": 10000
     },
     "inputWidgets": {},
     "nuid": "1981b19f-8a9c-41b1-bd3f-e8656bd6307c",
     "showTitle": false,
     "tableResultSettingsMap": {},
     "title": ""
    }
   },
   "outputs": [],
   "source": [
    "dimensions = [\n",
    "    {\n",
    "        \"table\": f\"workspace.{target_schema}.dim_passengers\",\n",
    "        \"alias\": \"dim_passengers\",\n",
    "        \"join_keys\": [(\"passenger_id\", \"passenger_id\")]  # (fact_col, dim_col)\n",
    "    },\n",
    "    {\n",
    "        \"table\": f\"workspace.{target_schema}.dim_flights\",\n",
    "        \"alias\": \"dim_flights\",\n",
    "        \"join_keys\": [(\"flight_id\", \"flight_id\")]\n",
    "    },\n",
    "    {\n",
    "        \"table\": f\"workspace.{target_schema}.dim_airports\",\n",
    "        \"alias\": \"dim_airports\",\n",
    "        \"join_keys\": [(\"airport_id\", \"airport_id\")] \n",
    "    },\n",
    "]\n",
    "\n",
    "# Columns to keep in Fact table (besides the surrogate keys)\n",
    "fact_columns = [\"amount\",\"booking_date\"]"
   ]
  },
  {
   "cell_type": "code",
   "execution_count": 0,
   "metadata": {
    "application/vnd.databricks.v1+cell": {
     "cellMetadata": {
      "byteLimit": 2048000,
      "rowLimit": 10000
     },
     "inputWidgets": {},
     "nuid": "8af1ddeb-f7e9-437f-861b-beccc96caa63",
     "showTitle": false,
     "tableResultSettingsMap": {},
     "title": ""
    }
   },
   "outputs": [],
   "source": [
    "if not backdated_refresh:\n",
    "\n",
    "    if spark.catalog.tableExists(target_fact_table):\n",
    "        last_load = spark.sql(f\"SELECT max({cdc_column}) as last_load FROM {target_fact_table}\").first()[0]\n",
    "    \n",
    "    else:\n",
    "        last_load = \"1900-01-01 00:00:00\"\n",
    "else:\n",
    "    last_load = backdated_refresh\n",
    "\n",
    "print(f\"Last load: {last_load}\")\n"
   ]
  },
  {
   "cell_type": "code",
   "execution_count": 0,
   "metadata": {
    "application/vnd.databricks.v1+cell": {
     "cellMetadata": {
      "byteLimit": 2048000,
      "rowLimit": 10000
     },
     "inputWidgets": {},
     "nuid": "fed42d06-d6c2-4ffc-b38f-ef0ea96871cf",
     "showTitle": false,
     "tableResultSettingsMap": {},
     "title": ""
    }
   },
   "outputs": [],
   "source": [
    "# dynamic fact query\n",
    "\n",
    "\n",
    "def generate_fact_query_incremental(fact_table, dimensions, fact_columns, last_load):\n",
    "\n",
    "    fact_alias = \"f\"\n",
    "\n",
    "    surrogate_key = []\n",
    "    select_clause = []\n",
    "    joins = []\n",
    "    facts = []\n",
    "    for dim in dimensions:\n",
    "        surrogate_key.append(f\"{dim['alias']}.{dim['alias']}_key\")\n",
    "        on_condition= [f\"{fact_alias}.{fk} = {dim['alias']}.{dk}\" for fk, dk in dim['join_keys']]\n",
    "        joins.append(f\"LEFT JOIN {dim['table']} {dim['alias']} ON {' AND '.join(on_condition)}\")\n",
    "    \n",
    "    \n",
    "    select_clause = \",\\n\\t\".join([f\"{fact_alias}.{col}\" for col in fact_columns] + surrogate_key)\n",
    "\n",
    "    join_condition = \"\\n\".join(joins)\n",
    "\n",
    "    where_clause = f\"{fact_alias}.{cdc_column} >= '{last_load}'\"\n",
    "\n",
    "    query = f\"\"\"\n",
    "SELECT\n",
    "    {select_clause}\n",
    "FROM {fact_table} {fact_alias}\n",
    "{join_condition}\n",
    "WHERE {where_clause}\n",
    "\"\"\".strip()\n",
    "\n",
    "    return query\n"
   ]
  },
  {
   "cell_type": "code",
   "execution_count": 0,
   "metadata": {
    "application/vnd.databricks.v1+cell": {
     "cellMetadata": {
      "byteLimit": 2048000,
      "rowLimit": 10000
     },
     "inputWidgets": {},
     "nuid": "3a2140ce-64a2-41ac-8a70-97774b99e494",
     "showTitle": false,
     "tableResultSettingsMap": {},
     "title": ""
    }
   },
   "outputs": [],
   "source": [
    "query = generate_fact_query_incremental(source_fact_table, dimensions, fact_columns, last_load)\n",
    "print(query)"
   ]
  },
  {
   "cell_type": "code",
   "execution_count": 0,
   "metadata": {
    "application/vnd.databricks.v1+cell": {
     "cellMetadata": {
      "byteLimit": 2048000,
      "rowLimit": 10000
     },
     "inputWidgets": {},
     "nuid": "a511c967-bdce-421e-957d-4852bc97a8c3",
     "showTitle": false,
     "tableResultSettingsMap": {
      "0": {
       "dataGridStateBlob": "{\"version\":1,\"tableState\":{\"columnPinning\":{\"left\":[\"#row_number#\"],\"right\":[]},\"columnSizing\":{},\"columnVisibility\":{}},\"settings\":{\"columns\":{}},\"syncTimestamp\":1755726912981}",
       "filterBlob": null,
       "queryPlanFiltersBlob": null,
       "tableResultIndex": 0
      }
     },
     "title": ""
    }
   },
   "outputs": [],
   "source": [
    "df_fact = spark.sql(query)\n",
    "df_fact.display()"
   ]
  },
  {
   "cell_type": "code",
   "execution_count": 0,
   "metadata": {
    "application/vnd.databricks.v1+cell": {
     "cellMetadata": {
      "byteLimit": 2048000,
      "rowLimit": 10000
     },
     "inputWidgets": {},
     "nuid": "132852ea-ec25-4f9f-9f94-8b65100c771b",
     "showTitle": false,
     "tableResultSettingsMap": {},
     "title": ""
    }
   },
   "outputs": [],
   "source": [
    "# upsert\n",
    "\n",
    "fact_key_cols_str = \" AND \".join([f\"trg.{col} = src.{col} \" for col in fact_key_cols])\n",
    "fact_key_cols_str"
   ]
  },
  {
   "cell_type": "code",
   "execution_count": 0,
   "metadata": {
    "application/vnd.databricks.v1+cell": {
     "cellMetadata": {
      "byteLimit": 2048000,
      "rowLimit": 10000
     },
     "inputWidgets": {},
     "nuid": "b0e2912a-fd73-45d8-af94-3e6f70b309f4",
     "showTitle": false,
     "tableResultSettingsMap": {},
     "title": ""
    }
   },
   "outputs": [],
   "source": [
    "from delta.tables import DeltaTable\n",
    "\n",
    "# MERGE INTO command\n",
    "\n",
    "if spark.catalog.tableExists(target_fact_table):\n",
    "    DeltaTable.forName(target_fact_table).alias(\"trg\").merge(\n",
    "        df_fact.alias(\"src\"),\n",
    "        fact_key_cols_str,\n",
    "    ).whenMatchedUpdateAll(condition=f\"src.{cdc_column} >= trg.{cdc_column}\").whenNotMatchedInsertAll().execute()\n",
    "else:\n",
    "    df_fact.write.format(\"delta\").mode(\"append\").saveAsTable(target_fact_table)\n"
   ]
  },
  {
   "cell_type": "code",
   "execution_count": 0,
   "metadata": {
    "application/vnd.databricks.v1+cell": {
     "cellMetadata": {
      "byteLimit": 2048000,
      "implicitDf": true,
      "rowLimit": 10000
     },
     "inputWidgets": {},
     "nuid": "f2aea7b2-cb14-4f2f-b0c0-ee22f9dc4d58",
     "showTitle": false,
     "tableResultSettingsMap": {},
     "title": ""
    }
   },
   "outputs": [],
   "source": [
    "%sql\n",
    "SELECT * FROM workspace.gold.fact_bookings"
   ]
  },
  {
   "cell_type": "code",
   "execution_count": 0,
   "metadata": {
    "application/vnd.databricks.v1+cell": {
     "cellMetadata": {},
     "inputWidgets": {},
     "nuid": "e452ee72-13b0-4bb0-adb0-087d19dca36a",
     "showTitle": false,
     "tableResultSettingsMap": {},
     "title": ""
    }
   },
   "outputs": [],
   "source": []
  }
 ],
 "metadata": {
  "application/vnd.databricks.v1+notebook": {
   "computePreferences": null,
   "dashboards": [],
   "environmentMetadata": {
    "base_environment": "",
    "environment_version": "3"
   },
   "inputWidgetPreferences": null,
   "language": "python",
   "notebookMetadata": {
    "mostRecentlyExecutedCommandWithImplicitDF": {
     "commandId": 8461787288736191,
     "dataframes": [
      "_sqldf"
     ]
    },
    "pythonIndentUnit": 4
   },
   "notebookName": "GoldFactNotebook",
   "widgets": {}
  },
  "language_info": {
   "name": "python"
  }
 },
 "nbformat": 4,
 "nbformat_minor": 0
}
